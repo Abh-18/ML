{
  "nbformat": 4,
  "nbformat_minor": 0,
  "metadata": {
    "colab": {
      "provenance": []
    },
    "kernelspec": {
      "name": "python3",
      "display_name": "Python 3"
    },
    "language_info": {
      "name": "python"
    }
  },
  "cells": [
    {
      "cell_type": "code",
      "execution_count": 3,
      "metadata": {
        "colab": {
          "base_uri": "https://localhost:8080/"
        },
        "id": "uILEtYXvYOln",
        "outputId": "5faa8294-4692-40f6-d9b0-6c8c158dabcc"
      },
      "outputs": [
        {
          "output_type": "stream",
          "name": "stdout",
          "text": [
            "23\n"
          ]
        }
      ],
      "source": [
        "a=10\n",
        "b=13\n",
        "c=a+b\n",
        "print(c)"
      ]
    },
    {
      "cell_type": "code",
      "source": [
        "a=int(input(print(\"enter 1st number\")))\n",
        "b=int(input(print(\"enter 2nd number\")))\n",
        "c=a+b\n",
        "print(\"addition =\",c)"
      ],
      "metadata": {
        "colab": {
          "base_uri": "https://localhost:8080/"
        },
        "id": "REbP_v83aeif",
        "outputId": "5ebed700-915c-49ea-e416-40f9b04a67f7"
      },
      "execution_count": 7,
      "outputs": [
        {
          "output_type": "stream",
          "name": "stdout",
          "text": [
            "enter 1st number\n",
            "None13\n",
            "enter 2nd number\n",
            "None12\n",
            "addition = 25\n"
          ]
        }
      ]
    },
    {
      "cell_type": "code",
      "source": [],
      "metadata": {
        "id": "2sT7LJqXbZZf"
      },
      "execution_count": null,
      "outputs": []
    }
  ]
}