{
  "nbformat": 4,
  "nbformat_minor": 0,
  "metadata": {
    "colab": {
      "provenance": [],
      "authorship_tag": "ABX9TyN/KUg7wO+gFAcvINCNyRKe",
      "include_colab_link": true
    },
    "kernelspec": {
      "name": "python3",
      "display_name": "Python 3"
    },
    "language_info": {
      "name": "python"
    }
  },
  "cells": [
    {
      "cell_type": "markdown",
      "metadata": {
        "id": "view-in-github",
        "colab_type": "text"
      },
      "source": [
        "<a href=\"https://colab.research.google.com/github/Abh-18/ML/blob/main/abhi1.ipynb\" target=\"_parent\"><img src=\"https://colab.research.google.com/assets/colab-badge.svg\" alt=\"Open In Colab\"/></a>"
      ]
    },
    {
      "cell_type": "code",
      "execution_count": 1,
      "metadata": {
        "colab": {
          "base_uri": "https://localhost:8080/"
        },
        "id": "1AiVv-fP7yAU",
        "outputId": "2679c6c6-9f83-402d-bd88-d72696d077b6"
      },
      "outputs": [
        {
          "output_type": "stream",
          "name": "stdout",
          "text": [
            "enter number\n",
            "None3\n",
            "enter number\n",
            "None6\n",
            "9\n"
          ]
        }
      ],
      "source": [
        "a=int(input(print(\"enter number\")))\n",
        "b=int(input(print(\"enter number\")))\n",
        "c=a+b\n",
        "print(c)"
      ]
    }
  ]
}